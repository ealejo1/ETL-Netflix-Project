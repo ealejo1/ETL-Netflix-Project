{
 "cells": [
  {
   "cell_type": "code",
   "execution_count": null,
   "metadata": {},
   "outputs": [],
   "source": [
    "--List the following Netflix titles that are identical from both csvs. \n",
    "SELECT shw.title, shw.rating, tle.title\n",
    "FROM shows as shw\n",
    "INNER JOIN titles AS tle \n",
    "ON (shw.rating = tle.rating);\n",
    "\n",
    "--List the following TV shows and movies from South Korea, released between 2010 and 2019.\n",
    "\n",
    "SELECT tle.show_type, tle.title, tle.director, tle.country, tle.release_year, tle.rating\n",
    "FROM titles AS tle\n",
    "WHERE release_year BETWEEN 2010 AND 2019 AND country = 'South Korea'\n",
    "ORDER BY release_year ASC;\n",
    "\n",
    "\n",
    "--List the following Movies from South Korea released between 2015 and 2019\n",
    "SELECT tle.show_type, tle.title, tle.director, tle.country, tle.release_year, tle.rating\n",
    "FROM titles AS tle\n",
    "WHERE release_year BETWEEN 2015 AND 2019 AND show_type = 'Movie' AND country = 'South Korea'\n",
    "ORDER BY release_year;\n",
    "\n",
    "\n",
    "--List the following TV Shows from South Korea released between 2012 and 2019. \n",
    "SELECT tle.show_type, tle.title, tle.director, tle.country, tle.release_year, tle.rating\n",
    "FROM titles AS tle\n",
    "WHERE release_year BETWEEN 2012 AND 2019 AND show_type = 'TV Show' AND country = 'South Korea'\n",
    "ORDER BY release_year;\n",
    "\n",
    "\n",
    "--List the following Movies and TV Shows from Japan released between 2015 and 2019. \n",
    "SELECT tle.show_type, tle.title, tle.director, tle.country, tle.release_year, tle.rating\n",
    "FROM titles AS tle\n",
    "WHERE release_year BETWEEN 2015 AND 2019 AND country = 'Japan'\n",
    "ORDER BY release_year;\n",
    "\n",
    "--List the following Movies from Japan released between 2015 and 2019\n",
    "SELECT tle.show_type, tle.title, tle.director, tle.country, tle.release_year, tle.rating\n",
    "FROM titles AS tle\n",
    "WHERE release_year BETWEEN 2015 AND 2019 AND show_type = 'Movie' AND country = 'Japan'\n",
    "ORDER BY release_year;\n",
    "\n",
    "\n",
    "--List the following TV Shows from Japan released between 2015 and 2019. \n",
    "SELECT tle.show_type, tle.title, tle.director, tle.country, tle.release_year, tle.rating\n",
    "FROM titles AS tle\n",
    "WHERE release_year BETWEEN 2015 AND 2019 AND show_type = 'TV Show' AND country = 'Japan'\n",
    "ORDER BY release_year;\n",
    "\n",
    "\n",
    "\n",
    "--List the following Movies from the Philippines released between 2012 and 2019. \n",
    "SELECT tle.show_type, tle.title, tle.director, tle.country, tle.release_year, tle.rating\n",
    "FROM titles AS tle\n",
    "WHERE release_year BETWEEN 2012 AND 2019 AND show_type = 'Movie' AND country = 'Philippines'\n",
    "ORDER BY release_year;"
   ]
  }
 ],
 "metadata": {
  "kernelspec": {
   "display_name": "Python 3",
   "language": "python",
   "name": "python3"
  },
  "language_info": {
   "codemirror_mode": {
    "name": "ipython",
    "version": 3
   },
   "file_extension": ".py",
   "mimetype": "text/x-python",
   "name": "python",
   "nbconvert_exporter": "python",
   "pygments_lexer": "ipython3",
   "version": "3.7.4"
  }
 },
 "nbformat": 4,
 "nbformat_minor": 2
}
